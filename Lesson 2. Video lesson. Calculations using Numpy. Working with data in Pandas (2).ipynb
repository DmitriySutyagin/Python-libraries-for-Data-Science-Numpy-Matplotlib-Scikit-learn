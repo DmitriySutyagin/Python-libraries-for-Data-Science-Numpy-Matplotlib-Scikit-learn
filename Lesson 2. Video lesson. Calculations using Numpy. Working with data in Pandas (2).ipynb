{
 "cells": [
  {
   "cell_type": "markdown",
   "id": "32b6bb35-b70e-4073-8d15-3c6a4f35d1bf",
   "metadata": {},
   "source": [
    "### Задание 1\r\n",
    "Создайте массив Numpy под названием a размером 5x2, то есть состоящий из 5 строк\r\n",
    "и 2 столбцов. Первый столбец должен содержать числа 1, 2, 3, 3, 1, а второй - числа 6,\r\n",
    "8, 11, 10, 7. Будем считать, что каждый столбец - это признак, а строка - наблюдение.\r\n",
    "Затем найдите среднее значение по каждому признаку, используя метод mean массива\r\n",
    "Numpy. Результат запишите в массив mean_a, в нем должно быть 2 элемнта.\r"
   ]
  },
  {
   "cell_type": "code",
   "execution_count": 37,
   "id": "30c55053-28e9-4e35-b29a-67b89b15da7b",
   "metadata": {},
   "outputs": [],
   "source": [
    "import numpy as np\n",
    "import pandas as pd"
   ]
  },
  {
   "cell_type": "code",
   "execution_count": 38,
   "id": "68755b89-8ae3-4ce5-8eb3-ebfc0dbd48f6",
   "metadata": {},
   "outputs": [
    {
     "data": {
      "text/plain": [
       "array([[ 1,  6],\n",
       "       [ 2,  8],\n",
       "       [ 3, 11],\n",
       "       [ 3, 10],\n",
       "       [ 1,  7]])"
      ]
     },
     "execution_count": 38,
     "metadata": {},
     "output_type": "execute_result"
    }
   ],
   "source": [
    "a = np.array([1, 2, 3, 3, 1, 6, 8, 11, 10, 7]).reshape(2, 5).T\n",
    "a"
   ]
  },
  {
   "cell_type": "code",
   "execution_count": 39,
   "id": "653d4c57-15ee-4de2-886c-0aa9ba8d597f",
   "metadata": {},
   "outputs": [
    {
     "data": {
      "text/plain": [
       "array([2. , 8.4])"
      ]
     },
     "execution_count": 39,
     "metadata": {},
     "output_type": "execute_result"
    }
   ],
   "source": [
    "mean_a = a.mean(axis=0)\n",
    "mean_a"
   ]
  },
  {
   "cell_type": "markdown",
   "id": "c6c1fc7e-f4d6-47ab-825f-7bf5dcb50d91",
   "metadata": {},
   "source": [
    "### Задание 2\r\n",
    "Вычислите массив a_centered, отняв от значений массива “а” средние значения\r\n",
    "соответствующих признаков, содержащиеся в массиве mean_a. Вычисление должно\r\n",
    "производиться в одно действие. Получившийся массив должен иметь размер 5x2."
   ]
  },
  {
   "cell_type": "code",
   "execution_count": 41,
   "id": "6cc401d7-88be-4465-b81d-5ed5bde5c08e",
   "metadata": {},
   "outputs": [
    {
     "data": {
      "text/plain": [
       "array([[-1. , -2.4],\n",
       "       [ 0. , -0.4],\n",
       "       [ 1. ,  2.6],\n",
       "       [ 1. ,  1.6],\n",
       "       [-1. , -1.4]])"
      ]
     },
     "execution_count": 41,
     "metadata": {},
     "output_type": "execute_result"
    }
   ],
   "source": [
    "a_centered = a - mean_a\n",
    "a_centered"
   ]
  },
  {
   "cell_type": "markdown",
   "id": "9d7cebba-2ae4-400f-8213-d71628bd4a1a",
   "metadata": {},
   "source": [
    "### Задание 3\r\n",
    "Найдите скалярное произведение столбцов массива a_centered. В результате должна\r\n",
    "получиться величина _centered_spa. Затем поделите a_centered_sp на N-1, где N - число\r\n",
    "наблюдений.\r"
   ]
  },
  {
   "cell_type": "code",
   "execution_count": 43,
   "id": "7a0edbf1-8887-4126-8ca0-12289825897f",
   "metadata": {},
   "outputs": [
    {
     "data": {
      "text/html": [
       "<div>\n",
       "<style scoped>\n",
       "    .dataframe tbody tr th:only-of-type {\n",
       "        vertical-align: middle;\n",
       "    }\n",
       "\n",
       "    .dataframe tbody tr th {\n",
       "        vertical-align: top;\n",
       "    }\n",
       "\n",
       "    .dataframe thead th {\n",
       "        text-align: right;\n",
       "    }\n",
       "</style>\n",
       "<table border=\"1\" class=\"dataframe\">\n",
       "  <thead>\n",
       "    <tr style=\"text-align: right;\">\n",
       "      <th></th>\n",
       "      <th>0</th>\n",
       "      <th>1</th>\n",
       "    </tr>\n",
       "  </thead>\n",
       "  <tbody>\n",
       "    <tr>\n",
       "      <th>0</th>\n",
       "      <td>-1.0</td>\n",
       "      <td>-2.4</td>\n",
       "    </tr>\n",
       "    <tr>\n",
       "      <th>1</th>\n",
       "      <td>0.0</td>\n",
       "      <td>-0.4</td>\n",
       "    </tr>\n",
       "    <tr>\n",
       "      <th>2</th>\n",
       "      <td>1.0</td>\n",
       "      <td>2.6</td>\n",
       "    </tr>\n",
       "    <tr>\n",
       "      <th>3</th>\n",
       "      <td>1.0</td>\n",
       "      <td>1.6</td>\n",
       "    </tr>\n",
       "    <tr>\n",
       "      <th>4</th>\n",
       "      <td>-1.0</td>\n",
       "      <td>-1.4</td>\n",
       "    </tr>\n",
       "  </tbody>\n",
       "</table>\n",
       "</div>"
      ],
      "text/plain": [
       "     0    1\n",
       "0 -1.0 -2.4\n",
       "1  0.0 -0.4\n",
       "2  1.0  2.6\n",
       "3  1.0  1.6\n",
       "4 -1.0 -1.4"
      ]
     },
     "execution_count": 43,
     "metadata": {},
     "output_type": "execute_result"
    }
   ],
   "source": [
    "df = pd.DataFrame(a_centered)\n",
    "df"
   ]
  },
  {
   "cell_type": "code",
   "execution_count": 44,
   "id": "ee9047d3-2003-41c6-b503-5d5718304f7c",
   "metadata": {},
   "outputs": [
    {
     "data": {
      "text/plain": [
       "8.0"
      ]
     },
     "execution_count": 44,
     "metadata": {},
     "output_type": "execute_result"
    }
   ],
   "source": [
    "_centered_spa = np.dot(df[0], df[1])\n",
    "_centered_spa"
   ]
  },
  {
   "cell_type": "code",
   "execution_count": 45,
   "id": "a8585de4-c907-4d24-bafb-9bd435ea81c3",
   "metadata": {},
   "outputs": [
    {
     "data": {
      "text/plain": [
       "0.8888888888888888"
      ]
     },
     "execution_count": 45,
     "metadata": {},
     "output_type": "execute_result"
    }
   ],
   "source": [
    "_centered_spa/(df.shape[0] * df.shape[1]-1)"
   ]
  },
  {
   "cell_type": "markdown",
   "id": "ea8981ee-7f38-4fb2-85af-bea4a1fda50e",
   "metadata": {},
   "source": [
    "### Задание 4**\r",
    "\r\n",
    "Число, которое мы получили в конце задания 3 является ковариацией двух признаков, содержащихся\r\n",
    "в массиве “а”. В задании 4 мы делили сумму произведений центрированных признаков на N-1, а не на\r\n",
    "N, поэтому полученная нами величина является несмещенной оценкой ковариации.\r"
   ]
  },
  {
   "cell_type": "code",
   "execution_count": 47,
   "id": "02892159-f791-4b40-9dc7-7dd48ac04944",
   "metadata": {},
   "outputs": [
    {
     "data": {
      "text/plain": [
       "array([[12.5, 15. , 20. , 17.5, 15. ],\n",
       "       [15. , 18. , 24. , 21. , 18. ],\n",
       "       [20. , 24. , 32. , 28. , 24. ],\n",
       "       [17.5, 21. , 28. , 24.5, 21. ],\n",
       "       [15. , 18. , 24. , 21. , 18. ]])"
      ]
     },
     "execution_count": 47,
     "metadata": {},
     "output_type": "execute_result"
    }
   ],
   "source": [
    "np.cov(a)"
   ]
  },
  {
   "cell_type": "markdown",
   "id": "09503d85-bf95-44f9-b01c-1798b4b193eb",
   "metadata": {},
   "source": [
    "# Тема “Работа с данными в Pandas”"
   ]
  },
  {
   "cell_type": "markdown",
   "id": "bd10d557-f7bf-4019-8233-98af3ddbfb85",
   "metadata": {},
   "source": [
    "### Задание 1"
   ]
  },
  {
   "cell_type": "markdown",
   "id": "f2e81d66-3f8e-489f-9c7d-b925a4a4105c",
   "metadata": {},
   "source": [
    "Импортируйте библиотеку Pandas и дайте ей псевдоним pd. Создайте датафрейм authors со\n",
    "столбцами author_id и author_name, в которых соответственно содержатся данные: [1, 2, 3] и\n",
    "['Тургенев', 'Чехов', 'Островский'].\n",
    "Затем создайте датафрейм book cо столбцами author_id, book_title и price, в которых соответственно\n",
    "содержатся данные:\n",
    "[1, 1, 1, 2, 2, 3, 3],\n",
    "['Отцы и дети', 'Рудин', 'Дворянское гнездо', 'Толстый и тонкий', 'Дама с собачкой', 'Гроза', 'Таланты и\n",
    "поклонники']\n",
    "Нужны prices!\n",
    "[500, 400, 300, 350, 450, 600, 200]"
   ]
  },
  {
   "cell_type": "code",
   "execution_count": 51,
   "id": "70a69ecd-019a-4056-b9d3-b65028f512c3",
   "metadata": {},
   "outputs": [],
   "source": [
    "authors = pd.DataFrame({'author_id' : [1, 2, 3],\n",
    "                        'author_name' : ['Тургенев', 'Чехов', 'Островский']\n",
    "                        })"
   ]
  },
  {
   "cell_type": "code",
   "execution_count": 52,
   "id": "2f60c6d9-7a94-472d-9134-d2f8cca57538",
   "metadata": {},
   "outputs": [
    {
     "data": {
      "text/html": [
       "<div>\n",
       "<style scoped>\n",
       "    .dataframe tbody tr th:only-of-type {\n",
       "        vertical-align: middle;\n",
       "    }\n",
       "\n",
       "    .dataframe tbody tr th {\n",
       "        vertical-align: top;\n",
       "    }\n",
       "\n",
       "    .dataframe thead th {\n",
       "        text-align: right;\n",
       "    }\n",
       "</style>\n",
       "<table border=\"1\" class=\"dataframe\">\n",
       "  <thead>\n",
       "    <tr style=\"text-align: right;\">\n",
       "      <th></th>\n",
       "      <th>author_id</th>\n",
       "      <th>author_name</th>\n",
       "    </tr>\n",
       "  </thead>\n",
       "  <tbody>\n",
       "    <tr>\n",
       "      <th>0</th>\n",
       "      <td>1</td>\n",
       "      <td>Тургенев</td>\n",
       "    </tr>\n",
       "    <tr>\n",
       "      <th>1</th>\n",
       "      <td>2</td>\n",
       "      <td>Чехов</td>\n",
       "    </tr>\n",
       "    <tr>\n",
       "      <th>2</th>\n",
       "      <td>3</td>\n",
       "      <td>Островский</td>\n",
       "    </tr>\n",
       "  </tbody>\n",
       "</table>\n",
       "</div>"
      ],
      "text/plain": [
       "   author_id author_name\n",
       "0          1    Тургенев\n",
       "1          2       Чехов\n",
       "2          3  Островский"
      ]
     },
     "execution_count": 52,
     "metadata": {},
     "output_type": "execute_result"
    }
   ],
   "source": [
    "authors"
   ]
  },
  {
   "cell_type": "code",
   "execution_count": 53,
   "id": "18fbbc02-f2dc-4d22-98c4-6d6d02e29307",
   "metadata": {},
   "outputs": [],
   "source": [
    "book = pd.DataFrame({'author_id' : [1, 1, 1, 2, 2, 3, 3],\n",
    "                     'book_title' : ['Отцы и дети', 'Рудин', 'Дворянское гнездо', 'Толстый и тонкий', 'Дама с собачкой', 'Гроза', 'Таланты и поклонники'],\n",
    "                     'price' : [500, 400, 300, 350, 450, 600, 200]\n",
    "                    })"
   ]
  },
  {
   "cell_type": "code",
   "execution_count": 54,
   "id": "16986644-20bd-40ce-9251-842cb569dfc4",
   "metadata": {},
   "outputs": [
    {
     "data": {
      "text/html": [
       "<div>\n",
       "<style scoped>\n",
       "    .dataframe tbody tr th:only-of-type {\n",
       "        vertical-align: middle;\n",
       "    }\n",
       "\n",
       "    .dataframe tbody tr th {\n",
       "        vertical-align: top;\n",
       "    }\n",
       "\n",
       "    .dataframe thead th {\n",
       "        text-align: right;\n",
       "    }\n",
       "</style>\n",
       "<table border=\"1\" class=\"dataframe\">\n",
       "  <thead>\n",
       "    <tr style=\"text-align: right;\">\n",
       "      <th></th>\n",
       "      <th>author_id</th>\n",
       "      <th>book_title</th>\n",
       "      <th>price</th>\n",
       "    </tr>\n",
       "  </thead>\n",
       "  <tbody>\n",
       "    <tr>\n",
       "      <th>0</th>\n",
       "      <td>1</td>\n",
       "      <td>Отцы и дети</td>\n",
       "      <td>500</td>\n",
       "    </tr>\n",
       "    <tr>\n",
       "      <th>1</th>\n",
       "      <td>1</td>\n",
       "      <td>Рудин</td>\n",
       "      <td>400</td>\n",
       "    </tr>\n",
       "    <tr>\n",
       "      <th>2</th>\n",
       "      <td>1</td>\n",
       "      <td>Дворянское гнездо</td>\n",
       "      <td>300</td>\n",
       "    </tr>\n",
       "    <tr>\n",
       "      <th>3</th>\n",
       "      <td>2</td>\n",
       "      <td>Толстый и тонкий</td>\n",
       "      <td>350</td>\n",
       "    </tr>\n",
       "    <tr>\n",
       "      <th>4</th>\n",
       "      <td>2</td>\n",
       "      <td>Дама с собачкой</td>\n",
       "      <td>450</td>\n",
       "    </tr>\n",
       "    <tr>\n",
       "      <th>5</th>\n",
       "      <td>3</td>\n",
       "      <td>Гроза</td>\n",
       "      <td>600</td>\n",
       "    </tr>\n",
       "    <tr>\n",
       "      <th>6</th>\n",
       "      <td>3</td>\n",
       "      <td>Таланты и поклонники</td>\n",
       "      <td>200</td>\n",
       "    </tr>\n",
       "  </tbody>\n",
       "</table>\n",
       "</div>"
      ],
      "text/plain": [
       "   author_id            book_title  price\n",
       "0          1           Отцы и дети    500\n",
       "1          1                 Рудин    400\n",
       "2          1     Дворянское гнездо    300\n",
       "3          2      Толстый и тонкий    350\n",
       "4          2       Дама с собачкой    450\n",
       "5          3                 Гроза    600\n",
       "6          3  Таланты и поклонники    200"
      ]
     },
     "execution_count": 54,
     "metadata": {},
     "output_type": "execute_result"
    }
   ],
   "source": [
    "book"
   ]
  },
  {
   "cell_type": "markdown",
   "id": "ece8e870-5d49-43f4-95b9-d238c58e39e0",
   "metadata": {},
   "source": [
    "### Задание 2\n",
    "Получите датафрейм authors_price, соединив дата фреймы authors и books по полю author_id."
   ]
  },
  {
   "cell_type": "code",
   "execution_count": 56,
   "id": "1251fd06-24bf-497a-842e-5120a39ad54c",
   "metadata": {},
   "outputs": [
    {
     "data": {
      "text/html": [
       "<div>\n",
       "<style scoped>\n",
       "    .dataframe tbody tr th:only-of-type {\n",
       "        vertical-align: middle;\n",
       "    }\n",
       "\n",
       "    .dataframe tbody tr th {\n",
       "        vertical-align: top;\n",
       "    }\n",
       "\n",
       "    .dataframe thead th {\n",
       "        text-align: right;\n",
       "    }\n",
       "</style>\n",
       "<table border=\"1\" class=\"dataframe\">\n",
       "  <thead>\n",
       "    <tr style=\"text-align: right;\">\n",
       "      <th></th>\n",
       "      <th>author_id</th>\n",
       "      <th>author_name</th>\n",
       "      <th>book_title</th>\n",
       "      <th>price</th>\n",
       "    </tr>\n",
       "  </thead>\n",
       "  <tbody>\n",
       "    <tr>\n",
       "      <th>0</th>\n",
       "      <td>1</td>\n",
       "      <td>Тургенев</td>\n",
       "      <td>Отцы и дети</td>\n",
       "      <td>500</td>\n",
       "    </tr>\n",
       "    <tr>\n",
       "      <th>1</th>\n",
       "      <td>1</td>\n",
       "      <td>Тургенев</td>\n",
       "      <td>Рудин</td>\n",
       "      <td>400</td>\n",
       "    </tr>\n",
       "    <tr>\n",
       "      <th>2</th>\n",
       "      <td>1</td>\n",
       "      <td>Тургенев</td>\n",
       "      <td>Дворянское гнездо</td>\n",
       "      <td>300</td>\n",
       "    </tr>\n",
       "    <tr>\n",
       "      <th>3</th>\n",
       "      <td>2</td>\n",
       "      <td>Чехов</td>\n",
       "      <td>Толстый и тонкий</td>\n",
       "      <td>350</td>\n",
       "    </tr>\n",
       "    <tr>\n",
       "      <th>4</th>\n",
       "      <td>2</td>\n",
       "      <td>Чехов</td>\n",
       "      <td>Дама с собачкой</td>\n",
       "      <td>450</td>\n",
       "    </tr>\n",
       "    <tr>\n",
       "      <th>5</th>\n",
       "      <td>3</td>\n",
       "      <td>Островский</td>\n",
       "      <td>Гроза</td>\n",
       "      <td>600</td>\n",
       "    </tr>\n",
       "    <tr>\n",
       "      <th>6</th>\n",
       "      <td>3</td>\n",
       "      <td>Островский</td>\n",
       "      <td>Таланты и поклонники</td>\n",
       "      <td>200</td>\n",
       "    </tr>\n",
       "  </tbody>\n",
       "</table>\n",
       "</div>"
      ],
      "text/plain": [
       "   author_id author_name            book_title  price\n",
       "0          1    Тургенев           Отцы и дети    500\n",
       "1          1    Тургенев                 Рудин    400\n",
       "2          1    Тургенев     Дворянское гнездо    300\n",
       "3          2       Чехов      Толстый и тонкий    350\n",
       "4          2       Чехов       Дама с собачкой    450\n",
       "5          3  Островский                 Гроза    600\n",
       "6          3  Островский  Таланты и поклонники    200"
      ]
     },
     "execution_count": 56,
     "metadata": {},
     "output_type": "execute_result"
    }
   ],
   "source": [
    "authors_price = authors.merge(book, left_on='author_id', right_on='author_id', suffixes=(False, False))\n",
    "authors_price"
   ]
  },
  {
   "cell_type": "markdown",
   "id": "664abf1e-d7d1-42e2-a1d5-ddad70419f45",
   "metadata": {},
   "source": [
    "### Задание 3\n",
    "Создайте датафрейм top5, в котором содержатся строки из authors_price с пятью самыми дорогими\n",
    "книгами."
   ]
  },
  {
   "cell_type": "code",
   "execution_count": 58,
   "id": "fa9defd4-72cf-4831-bec0-ce831e6920f4",
   "metadata": {},
   "outputs": [
    {
     "data": {
      "text/html": [
       "<div>\n",
       "<style scoped>\n",
       "    .dataframe tbody tr th:only-of-type {\n",
       "        vertical-align: middle;\n",
       "    }\n",
       "\n",
       "    .dataframe tbody tr th {\n",
       "        vertical-align: top;\n",
       "    }\n",
       "\n",
       "    .dataframe thead th {\n",
       "        text-align: right;\n",
       "    }\n",
       "</style>\n",
       "<table border=\"1\" class=\"dataframe\">\n",
       "  <thead>\n",
       "    <tr style=\"text-align: right;\">\n",
       "      <th></th>\n",
       "      <th>author_id</th>\n",
       "      <th>author_name</th>\n",
       "      <th>book_title</th>\n",
       "      <th>price</th>\n",
       "    </tr>\n",
       "  </thead>\n",
       "  <tbody>\n",
       "    <tr>\n",
       "      <th>5</th>\n",
       "      <td>3</td>\n",
       "      <td>Островский</td>\n",
       "      <td>Гроза</td>\n",
       "      <td>600</td>\n",
       "    </tr>\n",
       "    <tr>\n",
       "      <th>0</th>\n",
       "      <td>1</td>\n",
       "      <td>Тургенев</td>\n",
       "      <td>Отцы и дети</td>\n",
       "      <td>500</td>\n",
       "    </tr>\n",
       "    <tr>\n",
       "      <th>4</th>\n",
       "      <td>2</td>\n",
       "      <td>Чехов</td>\n",
       "      <td>Дама с собачкой</td>\n",
       "      <td>450</td>\n",
       "    </tr>\n",
       "    <tr>\n",
       "      <th>1</th>\n",
       "      <td>1</td>\n",
       "      <td>Тургенев</td>\n",
       "      <td>Рудин</td>\n",
       "      <td>400</td>\n",
       "    </tr>\n",
       "    <tr>\n",
       "      <th>3</th>\n",
       "      <td>2</td>\n",
       "      <td>Чехов</td>\n",
       "      <td>Толстый и тонкий</td>\n",
       "      <td>350</td>\n",
       "    </tr>\n",
       "  </tbody>\n",
       "</table>\n",
       "</div>"
      ],
      "text/plain": [
       "   author_id author_name        book_title  price\n",
       "5          3  Островский             Гроза    600\n",
       "0          1    Тургенев       Отцы и дети    500\n",
       "4          2       Чехов   Дама с собачкой    450\n",
       "1          1    Тургенев             Рудин    400\n",
       "3          2       Чехов  Толстый и тонкий    350"
      ]
     },
     "execution_count": 58,
     "metadata": {},
     "output_type": "execute_result"
    }
   ],
   "source": [
    "authors_price.nlargest(5, ['price']) "
   ]
  },
  {
   "cell_type": "markdown",
   "id": "fd4b96e6-e261-424f-9390-24215545f00a",
   "metadata": {},
   "source": [
    "### Задание 4\r\n",
    "Создайте датафрейм authors_stat на основе информации из authors_price. В датафрейме authors_stat\r\n",
    "должны быть четыре столбца:\r\n",
    "author_name, min_price, max_price и mean_price,\r\n",
    "в которых должны содержаться соответственно имя автора, минимальная, максимальная и средняя\r\n",
    "цена на книги этого автора.\r",
    "на книги этого автора.\r"
   ]
  },
  {
   "cell_type": "code",
   "execution_count": 93,
   "id": "c94772b3-caaa-4cdd-8181-b73171850d3e",
   "metadata": {},
   "outputs": [
    {
     "data": {
      "text/html": [
       "<div>\n",
       "<style scoped>\n",
       "    .dataframe tbody tr th:only-of-type {\n",
       "        vertical-align: middle;\n",
       "    }\n",
       "\n",
       "    .dataframe tbody tr th {\n",
       "        vertical-align: top;\n",
       "    }\n",
       "\n",
       "    .dataframe thead th {\n",
       "        text-align: right;\n",
       "    }\n",
       "</style>\n",
       "<table border=\"1\" class=\"dataframe\">\n",
       "  <thead>\n",
       "    <tr style=\"text-align: right;\">\n",
       "      <th></th>\n",
       "      <th>author_name</th>\n",
       "      <th>min_price</th>\n",
       "      <th>max_price</th>\n",
       "      <th>mean_price</th>\n",
       "    </tr>\n",
       "  </thead>\n",
       "  <tbody>\n",
       "    <tr>\n",
       "      <th>0</th>\n",
       "      <td>Островский</td>\n",
       "      <td>200</td>\n",
       "      <td>600</td>\n",
       "      <td>400.0</td>\n",
       "    </tr>\n",
       "    <tr>\n",
       "      <th>1</th>\n",
       "      <td>Тургенев</td>\n",
       "      <td>300</td>\n",
       "      <td>500</td>\n",
       "      <td>400.0</td>\n",
       "    </tr>\n",
       "    <tr>\n",
       "      <th>2</th>\n",
       "      <td>Чехов</td>\n",
       "      <td>350</td>\n",
       "      <td>450</td>\n",
       "      <td>400.0</td>\n",
       "    </tr>\n",
       "  </tbody>\n",
       "</table>\n",
       "</div>"
      ],
      "text/plain": [
       "  author_name  min_price  max_price  mean_price\n",
       "0  Островский        200        600       400.0\n",
       "1    Тургенев        300        500       400.0\n",
       "2       Чехов        350        450       400.0"
      ]
     },
     "execution_count": 93,
     "metadata": {},
     "output_type": "execute_result"
    }
   ],
   "source": [
    "authors_price.groupby('author_name')['price'].agg(['min', 'max', 'mean']).\\\n",
    "                        reset_index().rename(columns={'min':'min_price', 'max':'max_price', 'mean':'mean_price'})"
   ]
  },
  {
   "cell_type": "markdown",
   "id": "ac136248-4273-4133-a67d-9c26b83197a5",
   "metadata": {},
   "source": [
    "### Задание 5**\n",
    "\r\n",
    "Создайте новый столбец в датафрейме authors_price под названием cover, в нем будут располагаться\r\n",
    "данные о том, какая обложка у данной книги - твердая или мягкая. В этот столбец поместите данные\r\n",
    "из следующего списка:\r\n",
    "['твердая', 'мягкая', 'мягкая', 'твердая', 'твердая', 'мягкая', 'мягкая'].\r\n",
    "Просмотрите документацию по функции pd.pivot table с помощью вопросительного знака.\r\n",
    "Для каждого автора посчитайте суммарную стоимость книг в твердой и мягкой обложке. Используйте\r\n",
    "для этого функцию pd.pivot_table. При этом столбцы должны называться \"твердая\" и \"мягкая\", а\r\n",
    "индексами должны быть фамилии авторов. Пропущенные значения стоимостей заполните нулями,\r\n",
    "при необходимости загрузите библиотеку Numpy.\r\n",
    "Назовите полученный датасет book_info и сохраните его в формат pickle под названием\r\n",
    "\"book_info.pkl\". Затем загрузите из этого файла датафрейм и назовите его book_info2. Удостоверьтесь,\r\n",
    "что датафреймы book_info и book_info2 идентичны.\r"
   ]
  },
  {
   "cell_type": "code",
   "execution_count": null,
   "id": "e7622c9c-016c-4545-9a8b-3dc26d6ad3b8",
   "metadata": {},
   "outputs": [],
   "source": [
    "authors_price['cover'] = ['твердая', 'мягкая', 'мягкая', 'твердая', 'твердая', 'мягкая', 'мягкая']\n",
    "authors_price"
   ]
  },
  {
   "cell_type": "code",
   "execution_count": null,
   "id": "71935425-e827-410d-9e7e-83adb67a3b48",
   "metadata": {},
   "outputs": [],
   "source": [
    "pd.pivot_table?"
   ]
  },
  {
   "cell_type": "code",
   "execution_count": null,
   "id": "3adafa8a-d308-412a-812b-c087fa46a1ef",
   "metadata": {},
   "outputs": [],
   "source": [
    "book_info = pd.pivot_table(authors_price,  values='price', index=['author_name'], columns=['cover'], \n",
    "                           aggfunc=\"sum\", fill_value=0)\n",
    "book_info"
   ]
  },
  {
   "cell_type": "code",
   "execution_count": null,
   "id": "294d60fa-be69-40f2-baf3-d6108f171211",
   "metadata": {},
   "outputs": [],
   "source": [
    "book_info.to_pickle(\"book_info.pkl\")"
   ]
  },
  {
   "cell_type": "code",
   "execution_count": null,
   "id": "24f7f27f-4593-4c60-9590-b46158ee7c4d",
   "metadata": {},
   "outputs": [],
   "source": [
    "book_info2 = pd.read_pickle(\"book_info.pkl\")\n",
    "book_info2"
   ]
  }
 ],
 "metadata": {
  "kernelspec": {
   "display_name": "Python 3 (ipykernel)",
   "language": "python",
   "name": "python3"
  },
  "language_info": {
   "codemirror_mode": {
    "name": "ipython",
    "version": 3
   },
   "file_extension": ".py",
   "mimetype": "text/x-python",
   "name": "python",
   "nbconvert_exporter": "python",
   "pygments_lexer": "ipython3",
   "version": "3.11.7"
  }
 },
 "nbformat": 4,
 "nbformat_minor": 5
}
